{
  "nbformat": 4,
  "nbformat_minor": 0,
  "metadata": {
    "colab": {
      "provenance": []
    },
    "kernelspec": {
      "name": "python3",
      "display_name": "Python 3"
    },
    "language_info": {
      "name": "python"
    }
  },
  "cells": [
    {
      "cell_type": "markdown",
      "source": [
        "## Import Libraries"
      ],
      "metadata": {
        "id": "7t91Gyf_mlFN"
      }
    },
    {
      "cell_type": "code",
      "execution_count": 19,
      "metadata": {
        "id": "I9uqpgXk8ytR"
      },
      "outputs": [],
      "source": [
        "import kagglehub\n",
        "import pandas as pd\n",
        "import os"
      ]
    },
    {
      "cell_type": "markdown",
      "source": [
        "## Download Dataset from Kaggle"
      ],
      "metadata": {
        "id": "Bcbqi2R6mqoX"
      }
    },
    {
      "cell_type": "code",
      "source": [
        "path = kagglehub.dataset_download(\"spscientist/students-performance-in-exams\")\n",
        "files = os.listdir(path)\n",
        "print(files)\n",
        "print(\"Path to dataset files:\", path)"
      ],
      "metadata": {
        "colab": {
          "base_uri": "https://localhost:8080/"
        },
        "id": "3X5FDrUqinf4",
        "outputId": "a828b312-65d0-4bab-bf0c-8c569553ffb5"
      },
      "execution_count": 20,
      "outputs": [
        {
          "output_type": "stream",
          "name": "stdout",
          "text": [
            "['StudentsPerformance.csv']\n",
            "Path to dataset files: /kaggle/input/students-performance-in-exams\n"
          ]
        }
      ]
    },
    {
      "cell_type": "markdown",
      "source": [
        "## Read DataSet"
      ],
      "metadata": {
        "id": "00ZN-qfkmibG"
      }
    },
    {
      "cell_type": "code",
      "source": [
        "df = pd.read_csv(os.path.join(path, \"StudentsPerformance.csv\"))\n",
        "\n",
        "print(df.head())\n",
        "\n",
        "print('Columns')\n",
        "df.columns.to_list()\n",
        "\n",
        "#print(df.info())"
      ],
      "metadata": {
        "colab": {
          "base_uri": "https://localhost:8080/"
        },
        "id": "-u4MM1iPi65w",
        "outputId": "640e8853-e10a-4d07-f971-8008b27d1aa1"
      },
      "execution_count": 34,
      "outputs": [
        {
          "output_type": "stream",
          "name": "stdout",
          "text": [
            "   gender race/ethnicity parental level of education         lunch  \\\n",
            "0  female        group B           bachelor's degree      standard   \n",
            "1  female        group C                some college      standard   \n",
            "2  female        group B             master's degree      standard   \n",
            "3    male        group A          associate's degree  free/reduced   \n",
            "4    male        group C                some college      standard   \n",
            "\n",
            "  test preparation course  math score  reading score  writing score  \n",
            "0                    none          72             72             74  \n",
            "1               completed          69             90             88  \n",
            "2                    none          90             95             93  \n",
            "3                    none          47             57             44  \n",
            "4                    none          76             78             75  \n",
            "Columns\n"
          ]
        },
        {
          "output_type": "execute_result",
          "data": {
            "text/plain": [
              "['gender',\n",
              " 'race/ethnicity',\n",
              " 'parental level of education',\n",
              " 'lunch',\n",
              " 'test preparation course',\n",
              " 'math score',\n",
              " 'reading score',\n",
              " 'writing score']"
            ]
          },
          "metadata": {},
          "execution_count": 34
        }
      ]
    },
    {
      "cell_type": "markdown",
      "source": [
        "### 1. Which parental education level is linked with the highest average math score?\n"
      ],
      "metadata": {
        "id": "dxi34QO9jwOb"
      }
    },
    {
      "cell_type": "code",
      "source": [
        "print(\"Average math score by parental education:\")\n",
        "print(df.groupby('parental level of education')['math score'].mean().sort_values(ascending=False))"
      ],
      "metadata": {
        "colab": {
          "base_uri": "https://localhost:8080/"
        },
        "id": "cCHwHwO5jVyb",
        "outputId": "112c91c2-9073-4de1-8b2c-8568c5d1f934"
      },
      "execution_count": 23,
      "outputs": [
        {
          "output_type": "stream",
          "name": "stdout",
          "text": [
            "Average math score by parental education:\n",
            "parental level of education\n",
            "master's degree       69.745763\n",
            "bachelor's degree     69.389831\n",
            "associate's degree    67.882883\n",
            "some college          67.128319\n",
            "some high school      63.497207\n",
            "high school           62.137755\n",
            "Name: math score, dtype: float64\n"
          ]
        }
      ]
    },
    {
      "cell_type": "markdown",
      "source": [
        "###2. Is there a significant score difference between males and females across all subjects?\n"
      ],
      "metadata": {
        "id": "XbUHpgGij2up"
      }
    },
    {
      "cell_type": "code",
      "source": [
        "print(\"Average scores by gender:\")\n",
        "print(df.groupby('gender')[['math score', 'reading score', 'writing score']].mean())"
      ],
      "metadata": {
        "colab": {
          "base_uri": "https://localhost:8080/"
        },
        "id": "zdZF_UoRjY28",
        "outputId": "ff422b24-b909-42aa-aef5-bf959b798ee7"
      },
      "execution_count": 24,
      "outputs": [
        {
          "output_type": "stream",
          "name": "stdout",
          "text": [
            "Average scores by gender:\n",
            "        math score  reading score  writing score\n",
            "gender                                          \n",
            "female   63.633205      72.608108      72.467181\n",
            "male     68.728216      65.473029      63.311203\n"
          ]
        }
      ]
    },
    {
      "cell_type": "markdown",
      "source": [
        "### 3. How much does completing the test preparation course improve performance in each subject?"
      ],
      "metadata": {
        "id": "LQCMThgjj-Pi"
      }
    },
    {
      "cell_type": "code",
      "source": [
        "print(\"Score improvement from test preparation:\")\n",
        "print(df.groupby('test preparation course')[['math score', 'reading score', 'writing score']].mean().diff().dropna())"
      ],
      "metadata": {
        "colab": {
          "base_uri": "https://localhost:8080/"
        },
        "id": "-2vIhjjXjcNV",
        "outputId": "65b2916d-5320-4ee8-f035-c6dd1956927b"
      },
      "execution_count": 25,
      "outputs": [
        {
          "output_type": "stream",
          "name": "stdout",
          "text": [
            "Score improvement from test preparation:\n",
            "                         math score  reading score  writing score\n",
            "test preparation course                                          \n",
            "none                      -5.617649      -7.359587      -9.914322\n"
          ]
        }
      ]
    },
    {
      "cell_type": "markdown",
      "source": [
        "### 4. Which combination of gender, lunch type, and test preparation status produces the top 10% of scores?\n",
        "- First, calculate the average score for each student"
      ],
      "metadata": {
        "id": "H-g_qbqikEbi"
      }
    },
    {
      "cell_type": "code",
      "source": [
        "df['average score'] = df[['math score', 'reading score', 'writing score']].mean(axis=1)"
      ],
      "metadata": {
        "id": "ZPBuRKPIje0f"
      },
      "execution_count": 26,
      "outputs": []
    },
    {
      "cell_type": "markdown",
      "source": [
        "- Determine the threshold for the top 10%"
      ],
      "metadata": {
        "id": "mMAbaNOtlR9s"
      }
    },
    {
      "cell_type": "code",
      "source": [
        "top_10_percent_threshold = df['average score'].quantile(0.90)"
      ],
      "metadata": {
        "id": "_Iqq3LOflPbL"
      },
      "execution_count": 27,
      "outputs": []
    },
    {
      "cell_type": "markdown",
      "source": [
        "- Filter the DataFrame to include only students in the top 10%"
      ],
      "metadata": {
        "id": "ghxgBkVnmDxb"
      }
    },
    {
      "cell_type": "code",
      "source": [
        "top_performers = df[df['average score'] >= top_10_percent_threshold]"
      ],
      "metadata": {
        "id": "xpHM1W_TlyUU"
      },
      "execution_count": 28,
      "outputs": []
    },
    {
      "cell_type": "markdown",
      "source": [
        "- Find the most common combination among top performers"
      ],
      "metadata": {
        "id": "0LG79L9lmJND"
      }
    },
    {
      "cell_type": "code",
      "source": [
        "top_combination = top_performers.groupby(['gender', 'lunch', 'test preparation course']).size().sort_values(ascending=False).index[0]\n",
        "\n",
        "print(\"Combination of gender, lunch type, and test preparation status that produces the top 10% of scores:\")\n",
        "top_combination"
      ],
      "metadata": {
        "colab": {
          "base_uri": "https://localhost:8080/"
        },
        "id": "oRMNa2m8mGbi",
        "outputId": "4c535112-75d4-4313-f552-b5aaa2fa9bb7"
      },
      "execution_count": 29,
      "outputs": [
        {
          "output_type": "stream",
          "name": "stdout",
          "text": [
            "Combination of gender, lunch type, and test preparation status that produces the top 10% of scores:\n"
          ]
        },
        {
          "output_type": "execute_result",
          "data": {
            "text/plain": [
              "('female', 'standard', 'none')"
            ]
          },
          "metadata": {},
          "execution_count": 29
        }
      ]
    },
    {
      "cell_type": "markdown",
      "source": [
        "### 5. Does lunch type have a uniform impact across all race/ethnicity groups, or does its effect vary?"
      ],
      "metadata": {
        "id": "LnPby5lXkKv2"
      }
    },
    {
      "cell_type": "code",
      "source": [
        "print(\"Average scores by race/ethnicity and lunch type:\")\n",
        "print(df.groupby(['race/ethnicity', 'lunch'])[['math score', 'reading score', 'writing score']].mean())"
      ],
      "metadata": {
        "colab": {
          "base_uri": "https://localhost:8080/"
        },
        "id": "KQYxN2dzjhj-",
        "outputId": "fcdd8593-7aa9-4b0c-fca8-26239f3906a4"
      },
      "execution_count": 30,
      "outputs": [
        {
          "output_type": "stream",
          "name": "stdout",
          "text": [
            "Average scores by race/ethnicity and lunch type:\n",
            "                             math score  reading score  writing score\n",
            "race/ethnicity lunch                                                 \n",
            "group A        free/reduced   55.222222      60.555556      57.194444\n",
            "               standard       65.981132      67.471698      66.396226\n",
            "group B        free/reduced   57.434783      63.971014      61.521739\n",
            "               standard       66.884298      69.280992      67.925620\n",
            "group C        free/reduced   56.412281      63.412281      61.412281\n",
            "               standard       68.941463      72.268293      71.395122\n",
            "group D        free/reduced   61.115789      66.431579      66.452632\n",
            "               standard       70.916168      72.077844      72.245509\n",
            "group E        free/reduced   66.560976      68.731707      67.195122\n",
            "               standard       76.828283      74.808081      73.151515\n"
          ]
        }
      ]
    },
    {
      "cell_type": "markdown",
      "source": [
        "- The varying mean scores for different race/ethnicity groups within each lunch type indicate that the impact varies."
      ],
      "metadata": {
        "id": "tTKvcKeQkxLL"
      }
    },
    {
      "cell_type": "markdown",
      "source": [
        "### 6. What is the correlation between reading and writing scores? Is it stronger than math and writing?\n"
      ],
      "metadata": {
        "id": "DcfYBTIMkOWt"
      }
    },
    {
      "cell_type": "code",
      "source": [
        "print(\"Correlation matrix:\")\n",
        "correlation_matrix = df[['math score', 'reading score', 'writing score']].corr()\n",
        "print(correlation_matrix)"
      ],
      "metadata": {
        "colab": {
          "base_uri": "https://localhost:8080/"
        },
        "id": "ysYWAfLLjjf8",
        "outputId": "2f32dafa-8abf-493d-dca6-8b13744cf419"
      },
      "execution_count": 31,
      "outputs": [
        {
          "output_type": "stream",
          "name": "stdout",
          "text": [
            "Correlation matrix:\n",
            "               math score  reading score  writing score\n",
            "math score       1.000000       0.817580       0.802642\n",
            "reading score    0.817580       1.000000       0.954598\n",
            "writing score    0.802642       0.954598       1.000000\n"
          ]
        }
      ]
    },
    {
      "cell_type": "markdown",
      "source": [
        "- The correlation between reading and writing is in the 'reading score' row and 'writing score' column (or vice versa). Compare this value to the correlation between math and writing."
      ],
      "metadata": {
        "id": "G4d7euQiks1H"
      }
    },
    {
      "cell_type": "markdown",
      "source": [
        "### 7. Identify the top 5% performing students and analyze their demographic profiles. What patterns emerge?\n"
      ],
      "metadata": {
        "id": "GfqeKkyvkVB1"
      }
    },
    {
      "cell_type": "code",
      "source": [
        "top_5_percent_threshold = df['average score'].quantile(0.95)\n",
        "top_5_percent_df = df[df['average score'] >= top_5_percent_threshold]\n",
        "print(\"Demographic profile of top 5% performers:\")\n",
        "print(top_5_percent_df.describe(include='object')) # Describe categorical columns\n",
        "print(\"\\nCounts within demographic categories for top 5% performers:\")\n",
        "for col in ['gender', 'race/ethnicity', 'parental level of education', 'lunch', 'test preparation course']:\n",
        "  print(f\"\\n{col}:\")\n",
        "  print(top_5_percent_df[col].value_counts())"
      ],
      "metadata": {
        "colab": {
          "base_uri": "https://localhost:8080/"
        },
        "id": "G-e2wDAHjoO8",
        "outputId": "d40bfb5b-51d4-4b1c-dbca-99baa834e21a"
      },
      "execution_count": 32,
      "outputs": [
        {
          "output_type": "stream",
          "name": "stdout",
          "text": [
            "Demographic profile of top 5% performers:\n",
            "        gender race/ethnicity parental level of education     lunch  \\\n",
            "count       50             50                          50        50   \n",
            "unique       2              5                           6         2   \n",
            "top     female        group E          associate's degree  standard   \n",
            "freq        36             14                          16        46   \n",
            "\n",
            "       test preparation course  \n",
            "count                       50  \n",
            "unique                       2  \n",
            "top                  completed  \n",
            "freq                        33  \n",
            "\n",
            "Counts within demographic categories for top 5% performers:\n",
            "\n",
            "gender:\n",
            "gender\n",
            "female    36\n",
            "male      14\n",
            "Name: count, dtype: int64\n",
            "\n",
            "race/ethnicity:\n",
            "race/ethnicity\n",
            "group E    14\n",
            "group C    13\n",
            "group D    12\n",
            "group B     7\n",
            "group A     4\n",
            "Name: count, dtype: int64\n",
            "\n",
            "parental level of education:\n",
            "parental level of education\n",
            "associate's degree    16\n",
            "bachelor's degree     13\n",
            "some college          10\n",
            "master's degree        6\n",
            "some high school       3\n",
            "high school            2\n",
            "Name: count, dtype: int64\n",
            "\n",
            "lunch:\n",
            "lunch\n",
            "standard        46\n",
            "free/reduced     4\n",
            "Name: count, dtype: int64\n",
            "\n",
            "test preparation course:\n",
            "test preparation course\n",
            "completed    33\n",
            "none         17\n",
            "Name: count, dtype: int64\n"
          ]
        }
      ]
    },
    {
      "cell_type": "markdown",
      "source": [
        "- Patterns to look for could be the distribution of gender, race/ethnicity, parental education, lunch type, and test preparation status within this group compared to the overall dataset."
      ],
      "metadata": {
        "id": "CrAr8pzpkoAA"
      }
    },
    {
      "cell_type": "markdown",
      "source": [
        "### 8. Can we cluster students into performance categories (e.g., low, medium, high performers) using just Pandas logic? If yes, how?\n",
        "- Yes, using quantile-based binning."
      ],
      "metadata": {
        "id": "leT4mQ1UkbNF"
      }
    },
    {
      "cell_type": "code",
      "source": [
        "df['performance_category'] = pd.qcut(df['average score'], q=3, labels=['low', 'medium', 'high'])\n",
        "print(\"Student performance categories (using quantiles):\")\n",
        "print(df['performance_category'].value_counts())\n",
        "print(\"Average scores by performance category:\")\n",
        "print(df.groupby('performance_category', observed=False)['average score'].mean())"
      ],
      "metadata": {
        "colab": {
          "base_uri": "https://localhost:8080/"
        },
        "id": "CPiF-bvgjsoH",
        "outputId": "6d3eb752-2124-4768-f08a-d9f1c0cf9d48"
      },
      "execution_count": 33,
      "outputs": [
        {
          "output_type": "stream",
          "name": "stdout",
          "text": [
            "Student performance categories (using quantiles):\n",
            "performance_category\n",
            "low       336\n",
            "medium    332\n",
            "high      332\n",
            "Name: count, dtype: int64\n",
            "Average scores by performance category:\n",
            "performance_category\n",
            "low       51.942460\n",
            "medium    68.502008\n",
            "high      83.058233\n",
            "Name: average score, dtype: float64\n"
          ]
        }
      ]
    },
    {
      "cell_type": "markdown",
      "source": [
        "### **Power BI dashboard file name** = Nauman_Khalid_Student_Performance_Analysis_Project03.pbix"
      ],
      "metadata": {
        "id": "KxE07tQiH_9q"
      }
    }
  ]
}