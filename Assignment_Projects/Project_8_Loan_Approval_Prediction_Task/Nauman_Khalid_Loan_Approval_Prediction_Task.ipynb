{
  "nbformat": 4,
  "nbformat_minor": 0,
  "metadata": {
    "colab": {
      "provenance": []
    },
    "kernelspec": {
      "name": "python3",
      "display_name": "Python 3"
    },
    "language_info": {
      "name": "python"
    }
  },
  "cells": [
    {
      "cell_type": "markdown",
      "source": [
        "### **Import Libraries**"
      ],
      "metadata": {
        "id": "_-ikKJnNc62W"
      }
    },
    {
      "cell_type": "code",
      "execution_count": 51,
      "metadata": {
        "id": "kVBGHK3kcn1r"
      },
      "outputs": [],
      "source": [
        "import kagglehub\n",
        "import pandas as pd\n",
        "import os\n",
        "import matplotlib.pyplot as plt\n",
        "import seaborn as sns\n",
        "import joblib\n",
        "from sklearn.preprocessing import StandardScaler, OneHotEncoder\n",
        "from sklearn.compose import ColumnTransformer\n",
        "from sklearn.pipeline import Pipeline\n",
        "from sklearn.model_selection import train_test_split\n",
        "from sklearn.linear_model import LogisticRegression\n",
        "from sklearn.ensemble import RandomForestClassifier\n",
        "from sklearn.metrics import accuracy_score, f1_score, confusion_matrix"
      ]
    },
    {
      "cell_type": "markdown",
      "source": [
        "### **Download Dataset from Kaggle**"
      ],
      "metadata": {
        "id": "RT1_1mOUdGaG"
      }
    },
    {
      "cell_type": "code",
      "source": [
        "path = kagglehub.dataset_download(\"architsharma01/loan-approval-prediction-dataset\")\n",
        "files = os.listdir(path)\n",
        "print(files)\n",
        "print(\"Path to dataset files:\", path)"
      ],
      "metadata": {
        "colab": {
          "base_uri": "https://localhost:8080/"
        },
        "id": "yIVU09N9dJip",
        "outputId": "50ce152b-8325-467f-a5f2-ff9c536f5998"
      },
      "execution_count": 52,
      "outputs": [
        {
          "output_type": "stream",
          "name": "stdout",
          "text": [
            "['loan_approval_dataset.csv']\n",
            "Path to dataset files: /root/.cache/kagglehub/datasets/architsharma01/loan-approval-prediction-dataset/versions/1\n"
          ]
        }
      ]
    },
    {
      "cell_type": "markdown",
      "source": [
        "### **Read DataSet**"
      ],
      "metadata": {
        "id": "dL0AIrSOdQSw"
      }
    },
    {
      "cell_type": "code",
      "source": [
        "df = pd.read_csv(os.path.join(path, \"loan_approval_dataset.csv\"))\n",
        "\n",
        "print(df.head())\n",
        "\n",
        "print('Columns')\n",
        "df.columns.to_list()\n",
        "\n",
        "#print(df.info())"
      ],
      "metadata": {
        "colab": {
          "base_uri": "https://localhost:8080/"
        },
        "id": "y97YwYZcdS3J",
        "outputId": "47ba3bb7-1d05-4ab7-a8c2-321c522ef5ca"
      },
      "execution_count": 53,
      "outputs": [
        {
          "output_type": "stream",
          "name": "stdout",
          "text": [
            "   loan_id   no_of_dependents      education  self_employed   income_annum  \\\n",
            "0        1                  2       Graduate             No        9600000   \n",
            "1        2                  0   Not Graduate            Yes        4100000   \n",
            "2        3                  3       Graduate             No        9100000   \n",
            "3        4                  3       Graduate             No        8200000   \n",
            "4        5                  5   Not Graduate            Yes        9800000   \n",
            "\n",
            "    loan_amount   loan_term   cibil_score   residential_assets_value  \\\n",
            "0      29900000          12           778                    2400000   \n",
            "1      12200000           8           417                    2700000   \n",
            "2      29700000          20           506                    7100000   \n",
            "3      30700000           8           467                   18200000   \n",
            "4      24200000          20           382                   12400000   \n",
            "\n",
            "    commercial_assets_value   luxury_assets_value   bank_asset_value  \\\n",
            "0                  17600000              22700000            8000000   \n",
            "1                   2200000               8800000            3300000   \n",
            "2                   4500000              33300000           12800000   \n",
            "3                   3300000              23300000            7900000   \n",
            "4                   8200000              29400000            5000000   \n",
            "\n",
            "   loan_status  \n",
            "0     Approved  \n",
            "1     Rejected  \n",
            "2     Rejected  \n",
            "3     Rejected  \n",
            "4     Rejected  \n",
            "Columns\n"
          ]
        },
        {
          "output_type": "execute_result",
          "data": {
            "text/plain": [
              "['loan_id',\n",
              " ' no_of_dependents',\n",
              " ' education',\n",
              " ' self_employed',\n",
              " ' income_annum',\n",
              " ' loan_amount',\n",
              " ' loan_term',\n",
              " ' cibil_score',\n",
              " ' residential_assets_value',\n",
              " ' commercial_assets_value',\n",
              " ' luxury_assets_value',\n",
              " ' bank_asset_value',\n",
              " ' loan_status']"
            ]
          },
          "metadata": {},
          "execution_count": 53
        }
      ]
    },
    {
      "cell_type": "markdown",
      "source": [
        "### **1. Exploratory Data Analysis (EDA)**"
      ],
      "metadata": {
        "id": "IqwdNsfndcsi"
      }
    },
    {
      "cell_type": "code",
      "source": [
        "print(\"Shape of the dataset:\", df.shape)\n",
        "print(\"\\nWhat is the shape of the dataset? Any missing values?:\\n\", df.isnull().sum())"
      ],
      "metadata": {
        "colab": {
          "base_uri": "https://localhost:8080/"
        },
        "id": "awPuTmf6deG4",
        "outputId": "41cb3f5f-dcdb-4846-f98b-bba0e4156c10"
      },
      "execution_count": 54,
      "outputs": [
        {
          "output_type": "stream",
          "name": "stdout",
          "text": [
            "Shape of the dataset: (4269, 13)\n",
            "\n",
            "What is the shape of the dataset? Any missing values?:\n",
            " loan_id                      0\n",
            " no_of_dependents            0\n",
            " education                   0\n",
            " self_employed               0\n",
            " income_annum                0\n",
            " loan_amount                 0\n",
            " loan_term                   0\n",
            " cibil_score                 0\n",
            " residential_assets_value    0\n",
            " commercial_assets_value     0\n",
            " luxury_assets_value         0\n",
            " bank_asset_value            0\n",
            " loan_status                 0\n",
            "dtype: int64\n"
          ]
        }
      ]
    },
    {
      "cell_type": "markdown",
      "source": [
        "- **What is the class distribution of loan status (Approved vs Not Approved)?**"
      ],
      "metadata": {
        "id": "x1rDePkzfG-w"
      }
    },
    {
      "cell_type": "code",
      "metadata": {
        "id": "37ebbf48"
      },
      "source": [
        "#print(\"Class distribution of loan status:\\n\", df[' loan_status'].value_counts())"
      ],
      "execution_count": 55,
      "outputs": []
    },
    {
      "cell_type": "markdown",
      "source": [
        "- **Summary statistics of key numeric features (Income, LoanAmount).**"
      ],
      "metadata": {
        "id": "JLX8JgZOe_WV"
      }
    },
    {
      "cell_type": "code",
      "metadata": {
        "colab": {
          "base_uri": "https://localhost:8080/"
        },
        "id": "dc682d8d",
        "outputId": "2058003c-9a7c-4bdb-ca59-1fc6d597f293"
      },
      "source": [
        "#print(\"Summary statistics for Income and Loan Amount:\\n\")\n",
        "print(df[[' income_annum', ' loan_amount']].describe())"
      ],
      "execution_count": 56,
      "outputs": [
        {
          "output_type": "stream",
          "name": "stdout",
          "text": [
            "       income_annum   loan_amount\n",
            "count  4.269000e+03  4.269000e+03\n",
            "mean   5.059124e+06  1.513345e+07\n",
            "std    2.806840e+06  9.043363e+06\n",
            "min    2.000000e+05  3.000000e+05\n",
            "25%    2.700000e+06  7.700000e+06\n",
            "50%    5.100000e+06  1.450000e+07\n",
            "75%    7.500000e+06  2.150000e+07\n",
            "max    9.900000e+06  3.950000e+07\n"
          ]
        }
      ]
    },
    {
      "cell_type": "markdown",
      "source": [
        "- **Relationship of Credit_History and Loan_Status.**"
      ],
      "metadata": {
        "id": "EtAhmQo4e3Yd"
      }
    },
    {
      "cell_type": "code",
      "metadata": {
        "colab": {
          "base_uri": "https://localhost:8080/",
          "height": 564
        },
        "id": "f778c431",
        "outputId": "eccc2bca-4563-4219-b49a-447eb86e4c25"
      },
      "source": [
        "#print(\"Relationship between Cibil Score and Loan Status:\")\n",
        "plt.figure(figsize=(8, 6))\n",
        "sns.boxplot(x=' loan_status', y=' cibil_score', data=df)\n",
        "plt.title('Cibil Score vs Loan Status')\n",
        "plt.xlabel('Loan Status')\n",
        "plt.ylabel('Cibil Score')\n",
        "plt.show()"
      ],
      "execution_count": 57,
      "outputs": [
        {
          "output_type": "display_data",
          "data": {
            "text/plain": [
              "<Figure size 800x600 with 1 Axes>"
            ],
            "image/png": "[encoded data removed]"
          },
          "metadata": {}
        }
      ]
    },
    {
      "cell_type": "markdown",
      "source": [
        "-  **Which categorical features (Gender, Education, Property_Area) seem to influence loan approval? **"
      ],
      "metadata": {
        "id": "r_F-07_tfPSZ"
      }
    },
    {
      "cell_type": "code",
      "metadata": {
        "colab": {
          "base_uri": "https://localhost:8080/",
          "height": 581
        },
        "id": "8c3e6481",
        "outputId": "a44a9559-8dd6-4284-9144-a9734662f501"
      },
      "source": [
        "print(\"Relationship between Education and Loan Status:\")\n",
        "plt.figure(figsize=(8, 6))\n",
        "sns.countplot(x=' education', hue=' loan_status', data=df)\n",
        "plt.title('Education vs Loan Status')\n",
        "plt.xlabel('Education')\n",
        "plt.ylabel('Count')\n",
        "plt.show()\n"
      ],
      "execution_count": 58,
      "outputs": [
        {
          "output_type": "stream",
          "name": "stdout",
          "text": [
            "Relationship between Education and Loan Status:\n"
          ]
        },
        {
          "output_type": "display_data",
          "data": {
            "text/plain": [
              "<Figure size 800x600 with 1 Axes>"
            ],
            "image/png": "[encoded data removed]"
          },
          "metadata": {}
        }
      ]
    },
    {
      "cell_type": "code",
      "source": [
        "print(\"Relationship between Self Employed and Loan Status:\")\n",
        "plt.figure(figsize=(8, 6))\n",
        "sns.countplot(x=' self_employed', hue=' loan_status', data=df)\n",
        "plt.title('Self Employed vs Loan Status')\n",
        "plt.xlabel('Self Employed')\n",
        "plt.ylabel('Count')\n",
        "plt.show()"
      ],
      "metadata": {
        "colab": {
          "base_uri": "https://localhost:8080/",
          "height": 581
        },
        "id": "6_RjCb3eeSyZ",
        "outputId": "b239cc01-7dc0-4917-d6bc-492a1bc24849"
      },
      "execution_count": 59,
      "outputs": [
        {
          "output_type": "stream",
          "name": "stdout",
          "text": [
            "Relationship between Self Employed and Loan Status:\n"
          ]
        },
        {
          "output_type": "display_data",
          "data": {
            "text/plain": [
              "<Figure size 800x600 with 1 Axes>"
            ],
            "image/png": "[encoded data removed]"
          },
          "metadata": {}
        }
      ]
    },
    {
      "cell_type": "markdown",
      "source": [
        "### **2. Machine Learning Model Training**"
      ],
      "metadata": {
        "id": "pGVTDrC1fYHR"
      }
    },
    {
      "cell_type": "markdown",
      "metadata": {
        "id": "ca60639b"
      },
      "source": [
        "## Data preprocessing\n"
      ]
    },
    {
      "cell_type": "code",
      "metadata": {
        "colab": {
          "base_uri": "https://localhost:8080/"
        },
        "id": "fb5a9ba8",
        "outputId": "fa94be73-6ef9-4296-b6b3-459720090ec7"
      },
      "source": [
        "# Handle potential whitespace in column names\n",
        "df.columns = df.columns.str.strip()\n",
        "\n",
        "# Identify categorical and numerical columns\n",
        "categorical_features = ['education', 'self_employed']\n",
        "numerical_features = ['no_of_dependents', 'income_annum', 'loan_amount', 'loan_term', 'cibil_score', 'residential_assets_value', 'commercial_assets_value', 'luxury_assets_value', 'bank_asset_value']\n",
        "\n",
        "# Separate target variable\n",
        "X = df.drop(['loan_id', 'loan_status'], axis=1)\n",
        "y = df['loan_status'].apply(lambda x: 1 if x.strip() == 'Approved' else 0) # Encode target and strip whitespace\n",
        "\n",
        "# Create transformers for numerical and categorical features\n",
        "numerical_transformer = StandardScaler()\n",
        "categorical_transformer = OneHotEncoder(handle_unknown='ignore')\n",
        "\n",
        "# Create a column transformer to apply different transformations to different columns\n",
        "preprocessor = ColumnTransformer(\n",
        "    transformers=[\n",
        "        ('num', numerical_transformer, numerical_features),\n",
        "        ('cat', categorical_transformer, categorical_features)])\n",
        "\n",
        "# This pipeline is just for preprocessing in this step\n",
        "preprocessing_pipeline = Pipeline(steps=[('preprocessor', preprocessor)])\n",
        "\n",
        "# Fit and transform the data\n",
        "X_processed = preprocessing_pipeline.fit_transform(X)\n",
        "\n",
        "# Display the shape of the processed data to verify the encoding and scaling\n",
        "print(\"Shape of processed data:\", X_processed.shape)"
      ],
      "execution_count": 60,
      "outputs": [
        {
          "output_type": "stream",
          "name": "stdout",
          "text": [
            "Shape of processed data: (4269, 13)\n"
          ]
        }
      ]
    },
    {
      "cell_type": "markdown",
      "metadata": {
        "id": "10cb5f8d"
      },
      "source": [
        "## Model training\n",
        "\n",
        "I checked and train least two machine learning models (e.g., Logistic Regression and Random Forest) on the preprocessed data.\n"
      ]
    },
    {
      "cell_type": "code",
      "metadata": {
        "colab": {
          "base_uri": "https://localhost:8080/"
        },
        "id": "798f9158",
        "outputId": "f3bdefe9-56ff-4b28-d138-4c3f985bbda0"
      },
      "source": [
        "# Split data into training and testing sets\n",
        "X_train, X_test, y_train, y_test = train_test_split(X_processed, y, test_size=0.2, random_state=42)\n",
        "\n",
        "# Instantiate models\n",
        "logistic_model = LogisticRegression()\n",
        "random_forest_model = RandomForestClassifier(random_state=42)\n",
        "\n",
        "# Train models\n",
        "logistic_model.fit(X_train, y_train)\n",
        "random_forest_model.fit(X_train, y_train)\n",
        "\n",
        "print(\"Logistic Regression model trained.\")\n",
        "print(\"Random Forest model trained.\")"
      ],
      "execution_count": 61,
      "outputs": [
        {
          "output_type": "stream",
          "name": "stdout",
          "text": [
            "Logistic Regression model trained.\n",
            "Random Forest model trained.\n"
          ]
        }
      ]
    },
    {
      "cell_type": "code",
      "metadata": {
        "colab": {
          "base_uri": "https://localhost:8080/"
        },
        "id": "sPUjgptSfvmD",
        "outputId": "9ca1d0e9-39f3-44ec-ee3d-9edb752455a2"
      },
      "source": [
        "# Split data into training and testing sets without random_state\n",
        "X_train, X_test, y_train, y_test = train_test_split(X_processed, y, test_size=0.2)\n",
        "\n",
        "# Instantiate models\n",
        "logistic_model = LogisticRegression()\n",
        "random_forest_model = RandomForestClassifier(random_state=42)\n",
        "\n",
        "# Train models\n",
        "logistic_model.fit(X_train, y_train)\n",
        "random_forest_model.fit(X_train, y_train)\n",
        "\n",
        "print(\"Logistic Regression model trained.\")\n",
        "print(\"Random Forest model trained.\")"
      ],
      "execution_count": 62,
      "outputs": [
        {
          "output_type": "stream",
          "name": "stdout",
          "text": [
            "Logistic Regression model trained.\n",
            "Random Forest model trained.\n"
          ]
        }
      ]
    },
    {
      "cell_type": "code",
      "metadata": {
        "colab": {
          "base_uri": "https://localhost:8080/"
        },
        "id": "W431XS-Ofyuq",
        "outputId": "20ce2726-16bc-4403-bba3-40371802c0bd"
      },
      "source": [
        "# Split data into training and testing sets\n",
        "X_train, X_test, y_train, y_test = train_test_split(X_processed, y, test_size=0.2, random_state=42)\n",
        "\n",
        "# Check the class distribution in y_train\n",
        "print(\"Class distribution in y_train:\\n\", y_train.value_counts())\n",
        "\n",
        "# Instantiate models\n",
        "logistic_model = LogisticRegression()\n",
        "random_forest_model = RandomForestClassifier(random_state=42)\n",
        "\n",
        "# Train models\n",
        "logistic_model.fit(X_train, y_train)\n",
        "random_forest_model.fit(X_train, y_train)\n",
        "\n",
        "print(\"Logistic Regression model trained.\")\n",
        "print(\"Random Forest model trained.\")"
      ],
      "execution_count": 63,
      "outputs": [
        {
          "output_type": "stream",
          "name": "stdout",
          "text": [
            "Class distribution in y_train:\n",
            " loan_status\n",
            "1    2120\n",
            "0    1295\n",
            "Name: count, dtype: int64\n",
            "Logistic Regression model trained.\n",
            "Random Forest model trained.\n"
          ]
        }
      ]
    },
    {
      "cell_type": "code",
      "metadata": {
        "colab": {
          "base_uri": "https://localhost:8080/"
        },
        "id": "JKbdlFkNf2Ja",
        "outputId": "ef5c6da4-9373-443e-da5f-3fdc9af32020"
      },
      "source": [
        "print(\"Value counts of original 'loan_status' column:\\n\", df['loan_status'].value_counts())\n",
        "print(\"\\nValue counts of encoded 'y' variable:\\n\", y.value_counts())"
      ],
      "execution_count": 64,
      "outputs": [
        {
          "output_type": "stream",
          "name": "stdout",
          "text": [
            "Value counts of original 'loan_status' column:\n",
            " loan_status\n",
            "Approved    2656\n",
            "Rejected    1613\n",
            "Name: count, dtype: int64\n",
            "\n",
            "Value counts of encoded 'y' variable:\n",
            " loan_status\n",
            "1    2656\n",
            "0    1613\n",
            "Name: count, dtype: int64\n"
          ]
        }
      ]
    },
    {
      "cell_type": "code",
      "metadata": {
        "colab": {
          "base_uri": "https://localhost:8080/"
        },
        "id": "9a8e78b9",
        "outputId": "ffe427a7-f98d-4708-e036-d9c438c7741d"
      },
      "source": [
        "# Fix the encoding of the target variable\n",
        "y = df['loan_status'].apply(lambda x: 1 if x.strip() == 'Approved' else 0)\n",
        "\n",
        "# Split data into training and testing sets with random_state for reproducibility\n",
        "X_train, X_test, y_train, y_test = train_test_split(X_processed, y, test_size=0.2, random_state=42)\n",
        "\n",
        "# Check the class distribution in y_train again\n",
        "print(\"Class distribution in y_train after re-encoding:\\n\", y_train.value_counts())\n",
        "\n",
        "# Instantiate models\n",
        "logistic_model = LogisticRegression()\n",
        "random_forest_model = RandomForestClassifier(random_state=42)\n",
        "\n",
        "# Train models\n",
        "logistic_model.fit(X_train, y_train)\n",
        "random_forest_model.fit(X_train, y_train)\n",
        "\n",
        "print(\"Logistic Regression model trained.\")\n",
        "print(\"Random Forest model trained.\")"
      ],
      "execution_count": 65,
      "outputs": [
        {
          "output_type": "stream",
          "name": "stdout",
          "text": [
            "Class distribution in y_train after re-encoding:\n",
            " loan_status\n",
            "1    2120\n",
            "0    1295\n",
            "Name: count, dtype: int64\n",
            "Logistic Regression model trained.\n",
            "Random Forest model trained.\n"
          ]
        }
      ]
    },
    {
      "cell_type": "markdown",
      "metadata": {
        "id": "df78b91a"
      },
      "source": [
        "## Model evaluation\n",
        "\n",
        "Evaluate the trained models using appropriate metrics such as Accuracy, F1-score, and Confusion Matrix.\n"
      ]
    },
    {
      "cell_type": "code",
      "metadata": {
        "colab": {
          "base_uri": "https://localhost:8080/"
        },
        "id": "677a15af",
        "outputId": "7d0c685f-34eb-4b13-88ee-323cf0d154a1"
      },
      "source": [
        "# Make predictions\n",
        "y_pred_logistic = logistic_model.predict(X_test)\n",
        "y_pred_random_forest = random_forest_model.predict(X_test)\n",
        "\n",
        "# Evaluate Logistic Regression model\n",
        "print(\"--- Logistic Regression Model Evaluation ---\")\n",
        "print(\"Accuracy:\", accuracy_score(y_test, y_pred_logistic))\n",
        "print(\"F1 Score:\", f1_score(y_test, y_pred_logistic))\n",
        "print(\"Confusion Matrix:\\n\", confusion_matrix(y_test, y_pred_logistic))\n",
        "\n",
        "print(\"\\n--- Random Forest Model Evaluation ---\")\n",
        "print(\"Accuracy:\", accuracy_score(y_test, y_pred_random_forest))\n",
        "print(\"F1 Score:\", f1_score(y_test, y_pred_random_forest))\n",
        "print(\"Confusion Matrix:\\n\", confusion_matrix(y_test, y_pred_random_forest))"
      ],
      "execution_count": 66,
      "outputs": [
        {
          "output_type": "stream",
          "name": "stdout",
          "text": [
            "--- Logistic Regression Model Evaluation ---\n",
            "Accuracy: 0.9039812646370023\n",
            "F1 Score: 0.9239332096474954\n",
            "Confusion Matrix:\n",
            " [[274  44]\n",
            " [ 38 498]]\n",
            "\n",
            "--- Random Forest Model Evaluation ---\n",
            "Accuracy: 0.9800936768149883\n",
            "F1 Score: 0.9841269841269841\n",
            "Confusion Matrix:\n",
            " [[310   8]\n",
            " [  9 527]]\n"
          ]
        }
      ]
    },
    {
      "cell_type": "markdown",
      "metadata": {
        "id": "4ada98b5"
      },
      "source": [
        "## Model selection and saving\n",
        "\n",
        "I choose the best performing model based on the evaluation metrics and save it for future use.\n"
      ]
    },
    {
      "cell_type": "code",
      "metadata": {
        "colab": {
          "base_uri": "https://localhost:8080/"
        },
        "id": "78681ebc",
        "outputId": "c6e20494-06e5-458c-a17c-d21e2621e4fc"
      },
      "source": [
        "# Based on the previous evaluation, Random Forest performed better.\n",
        "best_model = random_forest_model\n",
        "\n",
        "# Save the best model to a file\n",
        "joblib.dump(best_model, 'best_loan_approval_model.joblib')\n",
        "\n",
        "print(\"Best model (Random Forest) saved successfully.\")"
      ],
      "execution_count": 67,
      "outputs": [
        {
          "output_type": "stream",
          "name": "stdout",
          "text": [
            "Best model (Random Forest) saved successfully.\n"
          ]
        }
      ]
    },
    {
      "cell_type": "code",
      "metadata": {
        "colab": {
          "base_uri": "https://localhost:8080/"
        },
        "id": "4405665a",
        "outputId": "3ea6ba2a-5d9c-4e87-e8de-dce4afa7a0e7"
      },
      "source": [
        "print(\"Value counts of original 'loan_status' column:\\n\", df['loan_status'].value_counts())\n",
        "print(\"\\nValue counts of encoded 'y' variable:\\n\", y.value_counts())"
      ],
      "execution_count": 68,
      "outputs": [
        {
          "output_type": "stream",
          "name": "stdout",
          "text": [
            "Value counts of original 'loan_status' column:\n",
            " loan_status\n",
            "Approved    2656\n",
            "Rejected    1613\n",
            "Name: count, dtype: int64\n",
            "\n",
            "Value counts of encoded 'y' variable:\n",
            " loan_status\n",
            "1    2656\n",
            "0    1613\n",
            "Name: count, dtype: int64\n"
          ]
        }
      ]
    },
    {
      "cell_type": "code",
      "metadata": {
        "colab": {
          "base_uri": "https://localhost:8080/"
        },
        "id": "6d04e4f9",
        "outputId": "828ec8d3-3aff-409e-e9dd-aa42debf3fc8"
      },
      "source": [
        "from sklearn.metrics import accuracy_score, f1_score, confusion_matrix\n",
        "\n",
        "# Make predictions\n",
        "y_pred_logistic = logistic_model.predict(X_test)\n",
        "y_pred_random_forest = random_forest_model.predict(X_test)\n",
        "\n",
        "# Evaluate Logistic Regression model\n",
        "print(\"Logistic Regression Model Evaluation\")\n",
        "print(\"Accuracy:\", accuracy_score(y_test, y_pred_logistic))\n",
        "print(\"F1 Score:\", f1_score(y_test, y_pred_logistic))\n",
        "print(\"Confusion Matrix:\\n\", confusion_matrix(y_test, y_pred_logistic))\n",
        "\n",
        "print(\"\\n--- Random Forest Model Evaluation ---\")\n",
        "print(\"Accuracy:\", accuracy_score(y_test, y_pred_random_forest))\n",
        "print(\"F1 Score:\", f1_score(y_test, y_pred_random_forest))\n",
        "print(\"Confusion Matrix:\\n\", confusion_matrix(y_test, y_pred_random_forest))"
      ],
      "execution_count": 69,
      "outputs": [
        {
          "output_type": "stream",
          "name": "stdout",
          "text": [
            "--- Logistic Regression Model Evaluation ---\n",
            "Accuracy: 0.9039812646370023\n",
            "F1 Score: 0.9239332096474954\n",
            "Confusion Matrix:\n",
            " [[274  44]\n",
            " [ 38 498]]\n",
            "\n",
            "--- Random Forest Model Evaluation ---\n",
            "Accuracy: 0.9800936768149883\n",
            "F1 Score: 0.9841269841269841\n",
            "Confusion Matrix:\n",
            " [[310   8]\n",
            " [  9 527]]\n"
          ]
        }
      ]
    },
    {
      "cell_type": "code",
      "metadata": {
        "colab": {
          "base_uri": "https://localhost:8080/"
        },
        "id": "31b9f4ca",
        "outputId": "8d4c3204-caf0-4803-e017-98520cef0168"
      },
      "source": [
        "best_model = random_forest_model\n",
        "\n",
        "joblib.dump(best_model, 'best_loan_approval_model.pkl')\n",
        "\n",
        "print(\"Best model (Random Forest) saved successfully.\")"
      ],
      "execution_count": 78,
      "outputs": [
        {
          "output_type": "stream",
          "name": "stdout",
          "text": [
            "Best model (Random Forest) saved successfully.\n"
          ]
        }
      ]
    }
  ]
}