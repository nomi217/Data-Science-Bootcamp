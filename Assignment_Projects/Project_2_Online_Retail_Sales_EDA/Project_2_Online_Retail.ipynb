{
  "nbformat": 4,
  "nbformat_minor": 0,
  "metadata": {
    "colab": {
      "provenance": []
    },
    "kernelspec": {
      "name": "python3",
      "display_name": "Python 3"
    },
    "language_info": {
      "name": "python"
    }
  },
  "cells": [
    {
      "cell_type": "code",
      "execution_count": 2,
      "metadata": {
        "colab": {
          "base_uri": "https://localhost:8080/"
        },
        "id": "SM7zLO0K6wn1",
        "outputId": "fe2f5f45-6571-4001-98f6-10e6e8ac3374"
      },
      "outputs": [
        {
          "output_type": "stream",
          "name": "stdout",
          "text": [
            "Downloading from https://www.kaggle.com/api/v1/datasets/download/lakshmi25npathi/online-retail-dataset?dataset_version_number=1...\n"
          ]
        },
        {
          "output_type": "stream",
          "name": "stderr",
          "text": [
            "100%|██████████| 43.3M/43.3M [00:00<00:00, 210MB/s]"
          ]
        },
        {
          "output_type": "stream",
          "name": "stdout",
          "text": [
            "Extracting files...\n"
          ]
        },
        {
          "output_type": "stream",
          "name": "stderr",
          "text": [
            "\n"
          ]
        },
        {
          "output_type": "stream",
          "name": "stdout",
          "text": [
            "['online_retail_II.xlsx']\n",
            "Path to dataset files: /root/.cache/kagglehub/datasets/lakshmi25npathi/online-retail-dataset/versions/1\n"
          ]
        }
      ],
      "source": [
        "# Install dependencies as needed:\n",
        "# pip install kagglehub[pandas-datasets]\n",
        "import kagglehub\n",
        "import pandas as pd\n",
        "import os\n",
        "\n",
        "# Set the path to the file you'd like to load\n",
        "file_path = \"\"\n",
        "\n",
        "# Load the latest version\n",
        "# The actual file name might be different, adjust if needed\\n\",\n",
        "path = kagglehub.dataset_download(\"lakshmi25npathi/online-retail-dataset\")\n",
        "files = os.listdir(path)\n",
        "print(files)\n",
        "print(\"Path to dataset files:\", path)"
      ]
    },
    {
      "cell_type": "code",
      "source": [
        "df = pd.read_excel(os.path.join(path, \"online_retail_II.xlsx\"))\n",
        "\n",
        "print(df.head())\n",
        "\n",
        "#df.columns.to_list()\n",
        "\n",
        "#print(df.info())"
      ],
      "metadata": {
        "colab": {
          "base_uri": "https://localhost:8080/"
        },
        "id": "T7_lIzCFEUdm",
        "outputId": "6fa9042c-5f4d-406f-f16a-bab48988f04c"
      },
      "execution_count": 3,
      "outputs": [
        {
          "output_type": "stream",
          "name": "stdout",
          "text": [
            "  Invoice StockCode                          Description  Quantity  \\\n",
            "0  489434     85048  15CM CHRISTMAS GLASS BALL 20 LIGHTS        12   \n",
            "1  489434    79323P                   PINK CHERRY LIGHTS        12   \n",
            "2  489434    79323W                  WHITE CHERRY LIGHTS        12   \n",
            "3  489434     22041         RECORD FRAME 7\" SINGLE SIZE         48   \n",
            "4  489434     21232       STRAWBERRY CERAMIC TRINKET BOX        24   \n",
            "\n",
            "          InvoiceDate  Price  Customer ID         Country  \n",
            "0 2009-12-01 07:45:00   6.95      13085.0  United Kingdom  \n",
            "1 2009-12-01 07:45:00   6.75      13085.0  United Kingdom  \n",
            "2 2009-12-01 07:45:00   6.75      13085.0  United Kingdom  \n",
            "3 2009-12-01 07:45:00   2.10      13085.0  United Kingdom  \n",
            "4 2009-12-01 07:45:00   1.25      13085.0  United Kingdom  \n"
          ]
        }
      ]
    },
    {
      "cell_type": "markdown",
      "source": [
        "# Task 1: Data Cleaning"
      ],
      "metadata": {
        "id": "1nbEOzDACB3f"
      }
    },
    {
      "cell_type": "code",
      "source": [
        "# Handle missing values in CustomerID\n",
        "df.dropna(subset=['Customer ID'], inplace=True)\n",
        "\n",
        "# Handle missing values in Description (can be filled or dropped, dropping for simplicity here)\n",
        "df.dropna(subset=['Description'], inplace=True)\n",
        "\n",
        "# Remove duplicate rows\n",
        "df.drop_duplicates(inplace=True)\n",
        "\n",
        "# Handle canceled orders (where InvoiceNo starts with 'C')\n",
        "df = df[~df['Invoice'].astype(str).str.startswith('C')]\n",
        "\n",
        "# Remove or cap outliers in Quantity and UnitPrice\n",
        "# Removing rows with negative Quantity or UnitPrice\n",
        "df = df[(df['Quantity'] > 0) & (df['Price'] > 0)]\n",
        "\n",
        "# Convert InvoiceDate to proper datetime format\n",
        "df['InvoiceDate'] = pd.to_datetime(df['InvoiceDate'])\n",
        "\n",
        "print(\"Data Cleaning Complete.\")\n",
        "print(\"Cleaned DataFrame Info:\")\n",
        "print(df.info())"
      ],
      "metadata": {
        "colab": {
          "base_uri": "https://localhost:8080/"
        },
        "id": "FrzAbMWE_M55",
        "outputId": "b8c5d9d5-fcd5-4944-b020-4b4d24544a06"
      },
      "execution_count": 4,
      "outputs": [
        {
          "output_type": "stream",
          "name": "stdout",
          "text": [
            "Data Cleaning Complete.\n",
            "Cleaned DataFrame Info:\n",
            "<class 'pandas.core.frame.DataFrame'>\n",
            "Index: 400916 entries, 0 to 525460\n",
            "Data columns (total 8 columns):\n",
            " #   Column       Non-Null Count   Dtype         \n",
            "---  ------       --------------   -----         \n",
            " 0   Invoice      400916 non-null  object        \n",
            " 1   StockCode    400916 non-null  object        \n",
            " 2   Description  400916 non-null  object        \n",
            " 3   Quantity     400916 non-null  int64         \n",
            " 4   InvoiceDate  400916 non-null  datetime64[ns]\n",
            " 5   Price        400916 non-null  float64       \n",
            " 6   Customer ID  400916 non-null  float64       \n",
            " 7   Country      400916 non-null  object        \n",
            "dtypes: datetime64[ns](1), float64(2), int64(1), object(4)\n",
            "memory usage: 27.5+ MB\n",
            "None\n"
          ]
        },
        {
          "output_type": "stream",
          "name": "stderr",
          "text": [
            "/tmp/ipython-input-4-4292840022.py:18: SettingWithCopyWarning: \n",
            "A value is trying to be set on a copy of a slice from a DataFrame.\n",
            "Try using .loc[row_indexer,col_indexer] = value instead\n",
            "\n",
            "See the caveats in the documentation: https://pandas.pydata.org/pandas-docs/stable/user_guide/indexing.html#returning-a-view-versus-a-copy\n",
            "  df['InvoiceDate'] = pd.to_datetime(df['InvoiceDate'])\n"
          ]
        }
      ]
    },
    {
      "cell_type": "markdown",
      "source": [
        "# Task 2: Exploratory Data Analysis (EDA)"
      ],
      "metadata": {
        "id": "u8XG3z39CU1s"
      }
    },
    {
      "cell_type": "markdown",
      "source": [
        "### --- General Overview ---"
      ],
      "metadata": {
        "id": "PEwIDOLCDbV8"
      }
    },
    {
      "cell_type": "code",
      "source": [
        "# How many unique products are there?\n",
        "print(f\"Number of unique products: {df['Description'].nunique()}\")\n",
        "\n",
        "# What is the total number of transactions?\n",
        "print(f\"Total number of transactions: {df['Invoice'].nunique()}\")\n",
        "\n",
        "# How many unique customers are there?\n",
        "print(f\"Number of unique customers: {df['Customer ID'].nunique()}\")\n",
        "\n",
        "# What countries do the customers belong to?\n",
        "print(f\"Unique countries: {df['Country'].unique().tolist()}\")\n",
        "print(f\"Number of unique countries: {df['Country'].nunique()}\")"
      ],
      "metadata": {
        "colab": {
          "base_uri": "https://localhost:8080/"
        },
        "id": "6ZfGKwo0CSi7",
        "outputId": "18b53554-b304-4a36-e0df-f1a0708240dc"
      },
      "execution_count": 5,
      "outputs": [
        {
          "output_type": "stream",
          "name": "stdout",
          "text": [
            "Number of unique products: 4444\n",
            "Total number of transactions: 19213\n",
            "Number of unique customers: 4312\n",
            "Unique countries: ['United Kingdom', 'France', 'USA', 'Belgium', 'Australia', 'EIRE', 'Germany', 'Portugal', 'Denmark', 'Netherlands', 'Poland', 'Channel Islands', 'Spain', 'Cyprus', 'Greece', 'Norway', 'Austria', 'Sweden', 'United Arab Emirates', 'Finland', 'Italy', 'Switzerland', 'Japan', 'Unspecified', 'Nigeria', 'Malta', 'RSA', 'Singapore', 'Bahrain', 'Thailand', 'Israel', 'Lithuania', 'West Indies', 'Korea', 'Brazil', 'Canada', 'Iceland']\n",
            "Number of unique countries: 37\n"
          ]
        }
      ]
    },
    {
      "cell_type": "markdown",
      "source": [
        "### --- Product Analysis ---"
      ],
      "metadata": {
        "id": "dD2B01XjDmjt"
      }
    },
    {
      "cell_type": "code",
      "source": [
        "# Calculate total revenue for each row\n",
        "df['TotalPrice'] = df['Quantity'] * df['Price']\n",
        "\n",
        "# What are the top 10 selling products by quantity?\n",
        "top_10_selling_products_quantity = df.groupby('Description')['Quantity'].sum().sort_values(ascending=False).head(10)\n",
        "print(\"\\nTop 10 selling products by Quantity:\")\n",
        "print(top_10_selling_products_quantity)\n",
        "\n",
        "# What are the top 10 revenue-generating products?\n",
        "top_10_selling_products_revenue = df.groupby('Description')['TotalPrice'].sum().sort_values(ascending=False).head(10)\n",
        "print(\"\\nTop 10 revenue-generating products:\")\n",
        "print(top_10_selling_products_revenue)\n",
        "\n",
        "# Which products have negative or zero unit prices? (Already handled in cleaning, but verifying)\n",
        "products_zero_price = df[df['Price'] == 0]['Description'].unique()\n",
        "print(f\"\\nProducts with zero unit price (should be empty after cleaning): {products_zero_price}\")"
      ],
      "metadata": {
        "colab": {
          "base_uri": "https://localhost:8080/"
        },
        "id": "dVe4W_r4DiLj",
        "outputId": "5bd9195e-ae4a-4a73-c16a-3344f5d1285b"
      },
      "execution_count": 6,
      "outputs": [
        {
          "output_type": "stream",
          "name": "stdout",
          "text": [
            "\n",
            "Top 10 selling products by Quantity:\n",
            "Description\n",
            "WHITE HANGING HEART T-LIGHT HOLDER    56814\n",
            "WORLD WAR 2 GLIDERS ASSTD DESIGNS     54610\n",
            "BROCADE RING PURSE                    48166\n",
            "PACK OF 72 RETRO SPOT CAKE CASES      45129\n",
            "ASSORTED COLOUR BIRD ORNAMENT         44431\n",
            "60 TEATIME FAIRY CAKE CASES           35656\n",
            "PACK OF 60 PINK PAISLEY CAKE CASES    30871\n",
            "JUMBO BAG RED RETROSPOT               29519\n",
            "SMALL POPCORN HOLDER                  25703\n",
            "BLACK AND WHITE PAISLEY FLOWER MUG    25685\n",
            "Name: Quantity, dtype: int64\n",
            "\n",
            "Top 10 revenue-generating products:\n",
            "Description\n",
            "WHITE HANGING HEART T-LIGHT HOLDER     151339.16\n",
            "REGENCY CAKESTAND 3 TIER               143727.60\n",
            "Manual                                  98531.99\n",
            "ASSORTED COLOUR BIRD ORNAMENT           70291.03\n",
            "JUMBO BAG RED RETROSPOT                 51644.25\n",
            "POSTAGE                                 48741.08\n",
            "ROTATING SILVER ANGELS T-LIGHT HLDR     40156.05\n",
            "PAPER CHAIN KIT 50'S CHRISTMAS          36871.55\n",
            "PARTY BUNTING                           35017.30\n",
            "EDWARDIAN PARASOL NATURAL               34044.75\n",
            "Name: TotalPrice, dtype: float64\n",
            "\n",
            "Products with zero unit price (should be empty after cleaning): []\n"
          ]
        }
      ]
    },
    {
      "cell_type": "markdown",
      "source": [
        "### --- Customer Analysis ---"
      ],
      "metadata": {
        "id": "_ce5metsDvMf"
      }
    },
    {
      "cell_type": "code",
      "source": [
        "# Which customers bought the most products? (by quantity)\n",
        "top_customers_quantity = df.groupby('Customer ID')['Quantity'].sum().sort_values(ascending=False).head(10)\n",
        "print(\"\\nTop 10 customers by total quantity purchased:\")\n",
        "print(top_customers_quantity)\n",
        "\n",
        "# What is the distribution of purchases per customer? (by number of invoices)\n",
        "purchases_per_customer = df.groupby('Customer ID')['Invoice'].nunique()\n",
        "print(\"\\nDistribution of purchases per customer (by number of unique invoices):\")\n",
        "print(purchases_per_customer.describe())\n",
        "\n",
        "# Are there any loyal customers? (Customers with many purchases or high total spending)\n",
        "# We can look at top customers by frequency (number of invoices) and monetary value\n",
        "top_customers_frequency = df.groupby('Customer ID')['Invoice'].nunique().sort_values(ascending=False).head(10)\n",
        "print(\"\\nTop 10 most frequent customers (by number of invoices):\")\n",
        "print(top_customers_frequency)\n",
        "\n",
        "top_customers_monetary = df.groupby('Customer ID')['TotalPrice'].sum().sort_values(ascending=False).head(10)\n",
        "print(\"\\nTop 10 most valuable customers (by total spending):\")\n",
        "print(top_customers_monetary)"
      ],
      "metadata": {
        "colab": {
          "base_uri": "https://localhost:8080/"
        },
        "id": "_evc6kItDtgV",
        "outputId": "c59f8edc-7ab9-466d-edb4-ce4ad03463b0"
      },
      "execution_count": 7,
      "outputs": [
        {
          "output_type": "stream",
          "name": "stdout",
          "text": [
            "\n",
            "Top 10 customers by total quantity purchased:\n",
            "Customer ID\n",
            "13902.0    220600\n",
            "14646.0    170278\n",
            "13694.0    125893\n",
            "18102.0    124216\n",
            "14156.0    108105\n",
            "14277.0     87830\n",
            "13687.0     87167\n",
            "17940.0     75825\n",
            "14911.0     69709\n",
            "16754.0     63551\n",
            "Name: Quantity, dtype: int64\n",
            "\n",
            "Distribution of purchases per customer (by number of unique invoices):\n",
            "count    4312.000000\n",
            "mean        4.455705\n",
            "std         8.170213\n",
            "min         1.000000\n",
            "25%         1.000000\n",
            "50%         2.000000\n",
            "75%         5.000000\n",
            "max       205.000000\n",
            "Name: Invoice, dtype: float64\n",
            "\n",
            "Top 10 most frequent customers (by number of invoices):\n",
            "Customer ID\n",
            "14911.0    205\n",
            "17850.0    155\n",
            "12748.0    144\n",
            "15311.0    121\n",
            "13089.0    109\n",
            "14606.0    102\n",
            "14156.0    102\n",
            "13694.0     94\n",
            "17841.0     91\n",
            "18102.0     89\n",
            "Name: Invoice, dtype: int64\n",
            "\n",
            "Top 10 most valuable customers (by total spending):\n",
            "Customer ID\n",
            "18102.0    349164.35\n",
            "14646.0    248396.50\n",
            "14156.0    196549.74\n",
            "14911.0    152121.22\n",
            "13694.0    131443.19\n",
            "17511.0     84541.17\n",
            "15061.0     83284.38\n",
            "16684.0     80489.21\n",
            "16754.0     65500.07\n",
            "17949.0     60117.60\n",
            "Name: TotalPrice, dtype: float64\n"
          ]
        }
      ]
    },
    {
      "cell_type": "markdown",
      "source": [
        "### --- Time Series & Seasonal Trends ---"
      ],
      "metadata": {
        "id": "J4pEPALUD4Px"
      }
    },
    {
      "cell_type": "code",
      "source": [
        "# What are the monthly sales trends?\n",
        "df['InvoiceMonth'] = df['InvoiceDate'].dt.to_period('M')\n",
        "monthly_sales = df.groupby('InvoiceMonth')['TotalPrice'].sum()\n",
        "print(\"\\nMonthly Sales Trends:\")\n",
        "print(monthly_sales)\n",
        "\n",
        "# What are the daily patterns of transactions?\n",
        "df['InvoiceDayOfWeek'] = df['InvoiceDate'].dt.day_name()\n",
        "daily_transactions = df.groupby('InvoiceDayOfWeek')['Invoice'].nunique().reindex(['Monday', 'Tuesday', 'Wednesday', 'Thursday', 'Friday', 'Saturday', 'Sunday'])\n",
        "print(\"\\nDaily Transaction Patterns:\")\n",
        "print(daily_transactions)\n",
        "\n",
        "# Identify peak sales months and slow seasons.\n",
        "print(f\"\\nPeak sales month: {monthly_sales.idxmax()} with sales of {monthly_sales.max():,.2f}\")\n",
        "print(f\"Slowest sales month: {monthly_sales.idxmin()} with sales of {monthly_sales.min():,.2f}\")"
      ],
      "metadata": {
        "colab": {
          "base_uri": "https://localhost:8080/"
        },
        "id": "rhRYjGYfD2lH",
        "outputId": "df52d4f6-5863-4dc6-a41e-547465cd493f"
      },
      "execution_count": 8,
      "outputs": [
        {
          "output_type": "stream",
          "name": "stdout",
          "text": [
            "\n",
            "Monthly Sales Trends:\n",
            "InvoiceMonth\n",
            "2009-12     683504.010\n",
            "2010-01     555802.672\n",
            "2010-02     504558.956\n",
            "2010-03     696978.471\n",
            "2010-04     591982.002\n",
            "2010-05     597833.380\n",
            "2010-06     636371.130\n",
            "2010-07     589736.170\n",
            "2010-08     602224.600\n",
            "2010-09     829013.951\n",
            "2010-10    1033112.010\n",
            "2010-11    1166460.022\n",
            "2010-12     310656.370\n",
            "Freq: M, Name: TotalPrice, dtype: float64\n",
            "\n",
            "Daily Transaction Patterns:\n",
            "InvoiceDayOfWeek\n",
            "Monday       2986\n",
            "Tuesday      3514\n",
            "Wednesday    3426\n",
            "Thursday     3976\n",
            "Friday       2615\n",
            "Saturday       30\n",
            "Sunday       2666\n",
            "Name: Invoice, dtype: int64\n",
            "\n",
            "Peak sales month: 2010-11 with sales of 1,166,460.02\n",
            "Slowest sales month: 2010-12 with sales of 310,656.37\n"
          ]
        }
      ]
    },
    {
      "cell_type": "markdown",
      "source": [
        "### --- Country Analysis ---"
      ],
      "metadata": {
        "id": "0Dfj7mf5D-tZ"
      }
    },
    {
      "cell_type": "code",
      "source": [
        "# Which countries have the highest number of orders? (by unique invoices)\n",
        "orders_by_country = df.groupby('Country')['Invoice'].nunique().sort_values(ascending=False)\n",
        "print(\"\\nCountries with highest number of orders:\")\n",
        "print(orders_by_country.head(10)) # Display top 10 countries by order count\n",
        "\n",
        "# Revenue comparison across countries\n",
        "revenue_by_country = df.groupby('Country')['TotalPrice'].sum().sort_values(ascending=False)\n",
        "print(\"\\nRevenue comparison across countries:\")\n",
        "print(revenue_by_country.head(10)) # Display top 10 countries by revenue"
      ],
      "metadata": {
        "colab": {
          "base_uri": "https://localhost:8080/"
        },
        "id": "CW16jecRD9Dp",
        "outputId": "6f6ad126-8f51-4e8e-9cf2-3b4b68fe2020"
      },
      "execution_count": 9,
      "outputs": [
        {
          "output_type": "stream",
          "name": "stdout",
          "text": [
            "\n",
            "Countries with highest number of orders:\n",
            "Country\n",
            "United Kingdom    17612\n",
            "Germany             347\n",
            "EIRE                316\n",
            "France              236\n",
            "Netherlands         135\n",
            "Sweden               68\n",
            "Spain                66\n",
            "Belgium              52\n",
            "Australia            40\n",
            "Switzerland          40\n",
            "Name: Invoice, dtype: int64\n",
            "\n",
            "Revenue comparison across countries:\n",
            "Country\n",
            "United Kingdom    7381644.433\n",
            "EIRE               356041.860\n",
            "Netherlands        268784.350\n",
            "Germany            202025.391\n",
            "France             146107.070\n",
            "Sweden              53147.990\n",
            "Denmark             50906.850\n",
            "Spain               47568.650\n",
            "Switzerland         43921.390\n",
            "Australia           31446.800\n",
            "Name: TotalPrice, dtype: float64\n"
          ]
        }
      ]
    },
    {
      "cell_type": "markdown",
      "source": [
        "### --- RFM (Recency, Frequency, Monetary) Segmentation ---"
      ],
      "metadata": {
        "id": "flSC6lTcEGyx"
      }
    },
    {
      "cell_type": "code",
      "source": [
        "# Calculate Recency, Frequency, Monetary\n",
        "# Recency: Days since last purchase\n",
        "# Frequency: Number of unique invoices\n",
        "# Monetary: Total spending\n",
        "\n",
        "# Define a snapshot date (a day after the last transaction in the dataset)\n",
        "snapshot_date = df['InvoiceDate'].max() + pd.Timedelta(days=1)\n",
        "\n",
        "rfm_df = df.groupby('Customer ID').agg(\n",
        "    Recency=('InvoiceDate', lambda date: (snapshot_date - date.max()).days),\n",
        "    Frequency=('Invoice', 'nunique'),\n",
        "    Monetary=('TotalPrice', 'sum')\n",
        ").reset_index()\n",
        "\n",
        "print(\"\\nRFM DataFrame:\")\n",
        "print(rfm_df.head())"
      ],
      "metadata": {
        "colab": {
          "base_uri": "https://localhost:8080/"
        },
        "id": "SUKMYVixEFga",
        "outputId": "43713c36-a328-4e13-fb35-d32c5b80f6c0"
      },
      "execution_count": 10,
      "outputs": [
        {
          "output_type": "stream",
          "name": "stdout",
          "text": [
            "\n",
            "RFM DataFrame:\n",
            "   Customer ID  Recency  Frequency  Monetary\n",
            "0      12346.0      165         11    372.86\n",
            "1      12347.0        3          2   1323.32\n",
            "2      12348.0       74          1    222.16\n",
            "3      12349.0       43          3   2671.14\n",
            "4      12351.0       11          1    300.93\n"
          ]
        }
      ]
    },
    {
      "cell_type": "markdown",
      "source": [
        "# **EDA complete. Visualizations and Power BI dashboard file name** = Project_2_Online_Retail_Sales_EDA.pbix"
      ],
      "metadata": {
        "id": "U5AJ8MoNF8bI"
      }
    },
    {
      "cell_type": "markdown",
      "source": [
        "### Save the cleaned dataset for Dashboard"
      ],
      "metadata": {
        "id": "9gznAFRcAoje"
      }
    },
    {
      "cell_type": "code",
      "source": [
        "output_path = \"cleaned_online_retail_II.csv\"\n",
        "df.to_csv(output_path, index=False)\n",
        "\n",
        "print(f\"\\nCleaned data saved to: {output_path}\")\n"
      ],
      "metadata": {
        "colab": {
          "base_uri": "https://localhost:8080/"
        },
        "id": "dlCCp74c_osA",
        "outputId": "841e1d8b-0482-47b4-b453-41df8aa3d05f"
      },
      "execution_count": 11,
      "outputs": [
        {
          "output_type": "stream",
          "name": "stdout",
          "text": [
            "\n",
            "Cleaned data saved to: cleaned_online_retail_II.csv\n"
          ]
        }
      ]
    }
  ]
}