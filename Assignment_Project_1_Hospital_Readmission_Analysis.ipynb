{
  "nbformat": 4,
  "nbformat_minor": 0,
  "metadata": {
    "colab": {
      "provenance": []
    },
    "kernelspec": {
      "name": "python3",
      "display_name": "Python 3"
    },
    "language_info": {
      "name": "python"
    }
  },
  "cells": [
    {
      "cell_type": "markdown",
      "source": [
        "# Install Libraries"
      ],
      "metadata": {
        "id": "kUu2_vdLX4Gd"
      }
    },
    {
      "cell_type": "code",
      "source": [
        "%pip -q install kagglehub"
      ],
      "metadata": {
        "id": "UzbHkYt1_vKU"
      },
      "execution_count": 1,
      "outputs": []
    },
    {
      "cell_type": "markdown",
      "source": [
        "# Read Dataset"
      ],
      "metadata": {
        "id": "QsUER8qYX809"
      }
    },
    {
      "cell_type": "code",
      "execution_count": 2,
      "metadata": {
        "colab": {
          "base_uri": "https://localhost:8080/"
        },
        "id": "0NhD8fPt-sJ2",
        "outputId": "55574f9b-6aec-43db-ec67-847b3258a61c"
      },
      "outputs": [
        {
          "output_type": "stream",
          "name": "stdout",
          "text": [
            "['HDHI Admission data.csv', 'HDHI Mortality Data.csv', 'table_headings.csv', 'HDHI Pollution Data.csv']\n",
            "Path to dataset files: /kaggle/input/hospital-admissions-data\n"
          ]
        }
      ],
      "source": [
        "import pandas as pd\n",
        "import matplotlib.pyplot as plt\n",
        "import seaborn as sns\n",
        "import kagglehub\n",
        "import os\n",
        "\n",
        "# Assuming the dataset downloaded to the path variable\n",
        "# The actual file name might be different, adjust if needed\n",
        "path = kagglehub.dataset_download(\"ashishsahani/hospital-admissions-data\")\n",
        "files = os.listdir(path)\n",
        "print(files)\n",
        "print(\"Path to dataset files:\", path)"
      ]
    },
    {
      "cell_type": "markdown",
      "source": [
        "## Print data information"
      ],
      "metadata": {
        "id": "_AJmc_fdYC9t"
      }
    },
    {
      "cell_type": "code",
      "source": [
        "df = pd.read_csv(os.path.join(path, \"HDHI Admission data.csv\"))\n",
        "\n",
        "print(df.head())\n",
        "\n",
        "#df.columns.to_list()\n",
        "\n",
        "#print(df.info())"
      ],
      "metadata": {
        "colab": {
          "base_uri": "https://localhost:8080/"
        },
        "id": "Vuuw67LPCIJ1",
        "outputId": "eaf0053e-69ff-42fb-9e5e-aa6a4ff8ccde"
      },
      "execution_count": 3,
      "outputs": [
        {
          "output_type": "stream",
          "name": "stdout",
          "text": [
            "   SNO MRD No.     D.O.A      D.O.D  AGE GENDER RURAL  \\\n",
            "0    1  234735  4/1/2017   4/3/2017   81      M     R   \n",
            "1    2  234696  4/1/2017   4/5/2017   65      M     R   \n",
            "2    3  234882  4/1/2017   4/3/2017   53      M     U   \n",
            "3    4  234635  4/1/2017   4/8/2017   67      F     U   \n",
            "4    5  234486  4/1/2017  4/23/2017   60      F     U   \n",
            "\n",
            "  TYPE OF ADMISSION-EMERGENCY/OPD month year  DURATION OF STAY  ...  \\\n",
            "0                               E     Apr-17                 3  ...   \n",
            "1                               E     Apr-17                 5  ...   \n",
            "2                               E     Apr-17                 3  ...   \n",
            "3                               E     Apr-17                 8  ...   \n",
            "4                               E     Apr-17                23  ...   \n",
            "\n",
            "   CONGENITAL UTI  NEURO CARDIOGENIC SYNCOPE  ORTHOSTATIC  \\\n",
            "0           0   0                          0            0   \n",
            "1           0   0                          0            0   \n",
            "2           0   0                          0            0   \n",
            "3           0   0                          0            0   \n",
            "4           0   0                          0            0   \n",
            "\n",
            "   INFECTIVE ENDOCARDITIS  DVT  CARDIOGENIC SHOCK  SHOCK  PULMONARY EMBOLISM  \\\n",
            "0                       0    0                  0      0                   0   \n",
            "1                       0    0                  0      0                   0   \n",
            "2                       0    0                  0      0                   0   \n",
            "3                       0    0                  0      0                   0   \n",
            "4                       0    0                  0      0                   0   \n",
            "\n",
            "  CHEST INFECTION  \n",
            "0               0  \n",
            "1               0  \n",
            "2               0  \n",
            "3               0  \n",
            "4               0  \n",
            "\n",
            "[5 rows x 56 columns]\n"
          ]
        }
      ]
    },
    {
      "cell_type": "markdown",
      "source": [
        "### 1. What is the total number of admissions?"
      ],
      "metadata": {
        "id": "S0WWzODKYJ4I"
      }
    },
    {
      "cell_type": "code",
      "source": [
        "total_admissions = len(df)\n",
        "print(f\"1. Total number of admissions: {total_admissions}\\n\")"
      ],
      "metadata": {
        "colab": {
          "base_uri": "https://localhost:8080/"
        },
        "id": "GLGVZn8_Cqiz",
        "outputId": "375395c2-e8a3-475c-961b-cbd8ea11d6f4"
      },
      "execution_count": 4,
      "outputs": [
        {
          "output_type": "stream",
          "name": "stdout",
          "text": [
            "1. Total number of admissions: 15757\n",
            "\n"
          ]
        }
      ]
    },
    {
      "cell_type": "markdown",
      "source": [
        "### 2. What is the distribution of gender among admitted patients?"
      ],
      "metadata": {
        "id": "mJ9tWL5ZYNrf"
      }
    },
    {
      "cell_type": "code",
      "source": [
        "gender_distribution = df['GENDER'].value_counts()\n",
        "print(\"2. Distribution of gender:\\n\", gender_distribution, \"\\n\")"
      ],
      "metadata": {
        "colab": {
          "base_uri": "https://localhost:8080/"
        },
        "id": "NzPoiZMtCs01",
        "outputId": "ed05b7d0-dfaf-43fb-9c23-888de63ab238"
      },
      "execution_count": 5,
      "outputs": [
        {
          "output_type": "stream",
          "name": "stdout",
          "text": [
            "2. Distribution of gender:\n",
            " GENDER\n",
            "M    9990\n",
            "F    5767\n",
            "Name: count, dtype: int64 \n",
            "\n"
          ]
        }
      ]
    },
    {
      "cell_type": "markdown",
      "source": [
        "### 3. Which age group is most frequently admitted?"
      ],
      "metadata": {
        "id": "HB7IFZk_YRUm"
      }
    },
    {
      "cell_type": "code",
      "source": [
        "most_frequent_age = df['AGE'].value_counts().idxmax()\n",
        "print(f\"3. Age group most frequently admitted (most frequent individual age): {most_frequent_age}\\n\")"
      ],
      "metadata": {
        "colab": {
          "base_uri": "https://localhost:8080/"
        },
        "id": "uu95N12fCumA",
        "outputId": "e900deb7-764b-4f29-95fe-82f52d64afc5"
      },
      "execution_count": 6,
      "outputs": [
        {
          "output_type": "stream",
          "name": "stdout",
          "text": [
            "3. Age group most frequently admitted (most frequent individual age): 65\n",
            "\n"
          ]
        }
      ]
    },
    {
      "cell_type": "markdown",
      "source": [
        "### 4. What are the most common admission types?"
      ],
      "metadata": {
        "id": "ikO9O3ebYVPX"
      }
    },
    {
      "cell_type": "code",
      "source": [
        "most_common_admission_types = df['TYPE OF ADMISSION-EMERGENCY/OPD'].value_counts()\n",
        "print(\"4. Most common admission types:\\n\", most_common_admission_types, \"\\n\")"
      ],
      "metadata": {
        "colab": {
          "base_uri": "https://localhost:8080/"
        },
        "id": "s88vFSq0Cwho",
        "outputId": "881d43c5-cffd-4959-b989-d511e4a6ac3d"
      },
      "execution_count": 7,
      "outputs": [
        {
          "output_type": "stream",
          "name": "stdout",
          "text": [
            "4. Most common admission types:\n",
            " TYPE OF ADMISSION-EMERGENCY/OPD\n",
            "E    10924\n",
            "O     4833\n",
            "Name: count, dtype: int64 \n",
            "\n"
          ]
        }
      ]
    },
    {
      "cell_type": "markdown",
      "source": [
        "### 5. Which departments have the highest number of admissions?"
      ],
      "metadata": {
        "id": "P1K7NpgjYYXH"
      }
    },
    {
      "cell_type": "code",
      "source": [
        "if 'DURATION OF STAY' in df.columns:\n",
        "    departments_admissions = df['DURATION OF STAY'].value_counts()\n",
        "    print(\"5. Departments with the highest number of admissions:\\n\", departments_admissions, \"\\n\")\n",
        "else:\n",
        "    print(\"5. The dataset does not contain a direct 'department' column as described in the assignment. A suitable proxy column was not identified.\\n\")\n"
      ],
      "metadata": {
        "colab": {
          "base_uri": "https://localhost:8080/"
        },
        "id": "ulOGML_dCyQM",
        "outputId": "2ae3405d-0fca-4d1a-81ec-f48b1082879a"
      },
      "execution_count": 8,
      "outputs": [
        {
          "output_type": "stream",
          "name": "stdout",
          "text": [
            "5. Departments with the highest number of admissions:\n",
            " DURATION OF STAY\n",
            "2     2109\n",
            "5     1904\n",
            "3     1878\n",
            "4     1836\n",
            "6     1623\n",
            "7     1294\n",
            "8     1069\n",
            "9      732\n",
            "1      582\n",
            "10     579\n",
            "11     448\n",
            "12     351\n",
            "13     270\n",
            "14     188\n",
            "15     158\n",
            "16     118\n",
            "17      91\n",
            "18      76\n",
            "19      73\n",
            "20      63\n",
            "22      41\n",
            "21      40\n",
            "24      28\n",
            "26      23\n",
            "23      22\n",
            "29      20\n",
            "25      19\n",
            "28      17\n",
            "27      13\n",
            "31      12\n",
            "32      11\n",
            "36       9\n",
            "33       9\n",
            "41       7\n",
            "38       5\n",
            "52       4\n",
            "35       4\n",
            "37       4\n",
            "30       4\n",
            "48       3\n",
            "34       2\n",
            "47       2\n",
            "44       2\n",
            "42       2\n",
            "39       2\n",
            "50       2\n",
            "46       2\n",
            "53       1\n",
            "45       1\n",
            "49       1\n",
            "98       1\n",
            "58       1\n",
            "67       1\n",
            "Name: count, dtype: int64 \n",
            "\n"
          ]
        }
      ]
    },
    {
      "cell_type": "markdown",
      "source": [
        "### 6. What room type is most frequently assigned?"
      ],
      "metadata": {
        "id": "n2u7dSOxYbTw"
      }
    },
    {
      "cell_type": "code",
      "source": [
        "if 'duration of intensive unit stay' in df.columns:\n",
        "    most_frequent_room_type = df['duration of intensive unit stay'].value_counts()\n",
        "    print(\"6. Most frequently assigned room type:\\n\", most_frequent_room_type, \"\\n\")\n",
        "else:\n",
        "    print(\"6. The dataset does not contain a direct 'room_type' column as described in the assignment.\\n\")\n"
      ],
      "metadata": {
        "colab": {
          "base_uri": "https://localhost:8080/"
        },
        "id": "vNxEfCEvC0bx",
        "outputId": "7d14c72e-fd6f-46dd-94df-6a9ff68cf77e"
      },
      "execution_count": 9,
      "outputs": [
        {
          "output_type": "stream",
          "name": "stdout",
          "text": [
            "6. Most frequently assigned room type:\n",
            " duration of intensive unit stay\n",
            "0     2761\n",
            "2     2620\n",
            "3     1928\n",
            "4     1762\n",
            "1     1707\n",
            "5     1532\n",
            "6      918\n",
            "7      637\n",
            "8      476\n",
            "9      341\n",
            "10     227\n",
            "11     165\n",
            "12     150\n",
            "13      87\n",
            "14      69\n",
            "15      69\n",
            "16      57\n",
            "18      43\n",
            "17      33\n",
            "20      28\n",
            "22      25\n",
            "19      22\n",
            "24      16\n",
            "21      11\n",
            "26      11\n",
            "30       7\n",
            "27       6\n",
            "23       6\n",
            "32       6\n",
            "28       5\n",
            "29       5\n",
            "25       5\n",
            "31       4\n",
            "35       3\n",
            "36       2\n",
            "37       2\n",
            "48       2\n",
            "40       2\n",
            "45       1\n",
            "42       1\n",
            "39       1\n",
            "34       1\n",
            "58       1\n",
            "41       1\n",
            "38       1\n",
            "Name: count, dtype: int64 \n",
            "\n"
          ]
        }
      ]
    },
    {
      "cell_type": "markdown",
      "source": [
        "### 7. On which day of the week do most patients get admitted?"
      ],
      "metadata": {
        "id": "lDP8PMyQYgmd"
      }
    },
    {
      "cell_type": "code",
      "source": [
        "# most_admissions_day = df['month year'].value_counts().idxmax()\n",
        "# print(f\"7. On which day of the week do most patients get admitted: {most_admissions_day}\\n\")\n",
        "df['D.O.A'] = pd.to_datetime(df['D.O.A'], format='mixed')\n",
        "df['admission_day_of_week'] = df['D.O.A'].dt.day_name()\n",
        "most_common_admission_day = df['D.O.A'].dt.day_name().value_counts().idxmax()\n",
        "print(f'\\n7. Most common admission day of the week: {most_common_admission_day}')"
      ],
      "metadata": {
        "colab": {
          "base_uri": "https://localhost:8080/"
        },
        "id": "dQPAxP-AC2VD",
        "outputId": "2adc54d6-5f74-4e06-a7e9-3be9c329c396"
      },
      "execution_count": 10,
      "outputs": [
        {
          "output_type": "stream",
          "name": "stdout",
          "text": [
            "\n",
            "7. Most common admission day of the week: Monday\n"
          ]
        }
      ]
    },
    {
      "cell_type": "markdown",
      "source": [
        "### 8. What percentage of patients have visited before (previous_visits > 0)?"
      ],
      "metadata": {
        "id": "v4vaiVtiYjDJ"
      }
    },
    {
      "cell_type": "code",
      "source": [
        "if 'previous_visits' in df.columns:\n",
        "    total_admissions = len(df)\n",
        "    patients_with_previous_visits = df[df['previous_visits'] > 0]\n",
        "    percentage_with_previous_visits = (len(patients_with_previous_visits) / total_admissions) * 100\n",
        "    print(f\"8. Percentage of patients who have visited before (previous_visits > 0): {percentage_with_previous_visits:.2f}%\\n\")\n",
        "else:\n",
        "    print(\"8. Cannot answer: The dataset does not contain a direct 'previous_visits' column as described in the assignment.\\n\")\n"
      ],
      "metadata": {
        "colab": {
          "base_uri": "https://localhost:8080/"
        },
        "id": "MJMvBmUsC4ba",
        "outputId": "3cce10a6-d49e-463e-b664-49c6019aa5f4"
      },
      "execution_count": 11,
      "outputs": [
        {
          "output_type": "stream",
          "name": "stdout",
          "text": [
            "8. Cannot answer: The dataset does not contain a direct 'previous_visits' column as described in the assignment.\n",
            "\n"
          ]
        }
      ]
    },
    {
      "cell_type": "markdown",
      "source": [
        "### 9. Is there a difference in admission types across genders?"
      ],
      "metadata": {
        "id": "C_lyenVFYljR"
      }
    },
    {
      "cell_type": "code",
      "source": [
        "admission_type_gender_crosstab = pd.crosstab(df['GENDER'], df['TYPE OF ADMISSION-EMERGENCY/OPD'])\n",
        "print('\\n9. Admission types across genders:')\n",
        "print(admission_type_gender_crosstab.to_markdown(numalign=\"left\", stralign=\"left\"))"
      ],
      "metadata": {
        "colab": {
          "base_uri": "https://localhost:8080/"
        },
        "id": "V9XVdz81C6cO",
        "outputId": "9dc76d8f-fd25-465d-bfe3-122256ef2413"
      },
      "execution_count": 12,
      "outputs": [
        {
          "output_type": "stream",
          "name": "stdout",
          "text": [
            "\n",
            "9. Admission types across genders:\n",
            "| GENDER   | E    | O    |\n",
            "|:---------|:-----|:-----|\n",
            "| F        | 4055 | 1712 |\n",
            "| M        | 6869 | 3121 |\n"
          ]
        }
      ]
    },
    {
      "cell_type": "markdown",
      "source": [
        "## 10. Create 3 visualizations to represent interesting patterns in the data."
      ],
      "metadata": {
        "id": "UFP2wX-uYprz"
      }
    },
    {
      "cell_type": "markdown",
      "source": [
        "### **Visualization 1: Distribution of Gender**"
      ],
      "metadata": {
        "id": "ufLgvkDsYvkD"
      }
    },
    {
      "cell_type": "code",
      "source": [
        "plt.figure(figsize=(6, 4))\n",
        "sns.countplot(data=df, x='GENDER', palette='viridis')\n",
        "plt.title('Distribution of Gender Among Admitted Patients')\n",
        "plt.xlabel('Gender')\n",
        "plt.ylabel('Number of Admissions')\n",
        "plt.show()\n"
      ],
      "metadata": {
        "colab": {
          "base_uri": "https://localhost:8080/",
          "height": 517
        },
        "id": "be2hkNXjC-Tb",
        "outputId": "018133d0-a5f8-48be-9ca3-45aaca1725fb"
      },
      "execution_count": 13,
      "outputs": [
        {
          "output_type": "stream",
          "name": "stderr",
          "text": [
            "/tmp/ipython-input-13-3680325006.py:5: FutureWarning: \n",
            "\n",
            "Passing `palette` without assigning `hue` is deprecated and will be removed in v0.14.0. Assign the `x` variable to `hue` and set `legend=False` for the same effect.\n",
            "\n",
            "  sns.countplot(data=df, x='GENDER', palette='viridis')\n"
          ]
        },
        {
          "output_type": "display_data",
          "data": {
            "text/plain": [
              "<Figure size 600x400 with 1 Axes>"
            ],
            "image/png": "[encoded data removed]"
          },
          "metadata": {}
        }
      ]
    },
    {
      "cell_type": "markdown",
      "source": [
        "### **Visualization 2: Distribution of Age Groups**"
      ],
      "metadata": {
        "id": "sZFMSKRNY1-U"
      }
    },
    {
      "cell_type": "code",
      "source": [
        "age_bins = [0, 10, 20, 30, 40, 50, 60, 70, 80, 90, 100, 110]\n",
        "age_labels = ['0-9', '10-19', '20-29', '30-39', '40-49', '50-59', '60-69', '70-79', '80-89', '90-99', '100+']\n",
        "df['age_group'] = pd.cut(df['AGE'], bins=age_bins, labels=age_labels, right=False)\n",
        "most_frequent_age_group = df['age_group'].value_counts().idxmax()\n",
        "print(f'\\n3. Most frequently admitted age group: {most_frequent_age_group}')"
      ],
      "metadata": {
        "colab": {
          "base_uri": "https://localhost:8080/"
        },
        "id": "vwBgR7KJPjqM",
        "outputId": "a8e7a1b2-5b39-4cc6-8c73-8eaefd0e320e"
      },
      "execution_count": 14,
      "outputs": [
        {
          "output_type": "stream",
          "name": "stdout",
          "text": [
            "\n",
            "3. Most frequently admitted age group: 60-69\n"
          ]
        }
      ]
    },
    {
      "cell_type": "code",
      "source": [
        "\n",
        "plt.figure(figsize=(10, 6))\n",
        "sns.countplot(data=df, x=df['age_group'], palette='magma', order=age_labels)\n",
        "plt.title('Distribution of Age Groups Among Admitted Patients')\n",
        "plt.xlabel('Age Group')\n",
        "plt.ylabel('Number of Admissions')\n",
        "plt.xticks(rotation=45)\n",
        "plt.tight_layout()\n",
        "plt.savefig('age_group_distribution.png')\n",
        "#print('Visualization 2: age_group_distribution.png (Distribution of Age Groups Among Admitted Patients)')"
      ],
      "metadata": {
        "colab": {
          "base_uri": "https://localhost:8080/",
          "height": 714
        },
        "id": "H41iHTYVL6me",
        "outputId": "df81b65e-e786-41a3-d15c-84959bc1fc17"
      },
      "execution_count": 15,
      "outputs": [
        {
          "output_type": "stream",
          "name": "stderr",
          "text": [
            "/tmp/ipython-input-15-100692929.py:3: FutureWarning: \n",
            "\n",
            "Passing `palette` without assigning `hue` is deprecated and will be removed in v0.14.0. Assign the `x` variable to `hue` and set `legend=False` for the same effect.\n",
            "\n",
            "  sns.countplot(data=df, x=df['age_group'], palette='magma', order=age_labels)\n"
          ]
        },
        {
          "output_type": "display_data",
          "data": {
            "text/plain": [
              "<Figure size 1000x600 with 1 Axes>"
            ],
            "image/png": "[encoded data removed]"
          },
          "metadata": {}
        }
      ]
    },
    {
      "cell_type": "markdown",
      "source": [
        "### **Visualization 3: Admissions by Day of the Week**"
      ],
      "metadata": {
        "id": "A_wkV0lAY8R8"
      }
    },
    {
      "cell_type": "code",
      "source": [
        "day_order = ['Monday', 'Tuesday', 'Wednesday', 'Thursday', 'Friday', 'Saturday', 'Sunday']\n",
        "df['admission_type'] = df['TYPE OF ADMISSION-EMERGENCY/OPD'].str.strip().str.upper()\n",
        "df['admission_day'] = pd.Categorical(df['TYPE OF ADMISSION-EMERGENCY/OPD'], categories=day_order, ordered=True)\n",
        "\n",
        "plt.figure(figsize=(8, 5))\n",
        "sns.countplot(data=df, x='TYPE OF ADMISSION-EMERGENCY/OPD', hue='GENDER', palette='plasma')\n",
        "plt.title('Admission Types by Gender')\n",
        "plt.xlabel('Admission Type')\n",
        "plt.ylabel('Number of Admissions')\n",
        "plt.savefig('admission_type_by_gender.png')\n",
        "print('Visualization 3: admission_type_by_gender.png (Admission Types by Gender)')"
      ],
      "metadata": {
        "colab": {
          "base_uri": "https://localhost:8080/",
          "height": 504
        },
        "id": "EKDuMEh3L8Mv",
        "outputId": "6d3d03ef-03c0-41f2-f025-a4d2a68a69fd"
      },
      "execution_count": 19,
      "outputs": [
        {
          "output_type": "stream",
          "name": "stdout",
          "text": [
            "Visualization 3: admission_type_by_gender.png (Admission Types by Gender)\n"
          ]
        },
        {
          "output_type": "display_data",
          "data": {
            "text/plain": [
              "<Figure size 800x500 with 1 Axes>"
            ],
            "image/png": "[encoded data removed]"
          },
          "metadata": {}
        }
      ]
    }
  ]
}